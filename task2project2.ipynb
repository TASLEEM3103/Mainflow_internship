{
 "cells": [
  {
   "cell_type": "code",
   "execution_count": 3,
   "id": "bd67de71-bcea-4d0a-834c-646cdbb6b81a",
   "metadata": {},
   "outputs": [
    {
     "name": "stdout",
     "output_type": "stream",
     "text": [
      "Dataset Info:\n",
      "<class 'pandas.core.frame.DataFrame'>\n",
      "RangeIndex: 500 entries, 0 to 499\n",
      "Data columns (total 7 columns):\n",
      " #   Column    Non-Null Count  Dtype  \n",
      "---  ------    --------------  -----  \n",
      " 0   Product   500 non-null    object \n",
      " 1   Region    500 non-null    object \n",
      " 2   Sales     499 non-null    float64\n",
      " 3   Profit    499 non-null    float64\n",
      " 4   Discount  500 non-null    float64\n",
      " 5   Category  500 non-null    object \n",
      " 6   Date      500 non-null    object \n",
      "dtypes: float64(3), object(4)\n",
      "memory usage: 27.5+ KB\n",
      "None\n",
      "\n",
      "First 5 Rows of the Dataset:\n",
      "      Product Region   Sales  Profit   Discount     Category        Date\n",
      "0       Mouse   East  2323.0   540.0  28.457501  Electronics  2023-01-01\n",
      "1     Monitor  South  2581.0  -171.0   7.575833  Electronics  2023-01-02\n",
      "2  Headphones   East  3919.0  1020.0  10.777522  Accessories  2023-01-03\n",
      "3       Mouse   West  2074.0  -489.0  11.380758  Accessories  2023-01-04\n",
      "4      Tablet  North   749.0   841.0  18.166145  Accessories  2023-01-05\n",
      "\n",
      "Missing Values:\n",
      "Product     0\n",
      "Region      0\n",
      "Sales       1\n",
      "Profit      1\n",
      "Discount    0\n",
      "Category    0\n",
      "Date        0\n",
      "dtype: int64\n"
     ]
    }
   ],
   "source": [
    "# Import necessary libraries\n",
    "import pandas as pd\n",
    "\n",
    "# Load the dataset\n",
    "file_path = 'sales_data.csv'\n",
    "sales_data = pd.read_csv(file_path)\n",
    "\n",
    "# Display basic information about the dataset\n",
    "print(\"Dataset Info:\")\n",
    "print(sales_data.info())\n",
    "\n",
    "print(\"\\nFirst 5 Rows of the Dataset:\")\n",
    "print(sales_data.head())\n",
    "\n",
    "# Check for missing values\n",
    "print(\"\\nMissing Values:\")\n",
    "print(sales_data.isnull().sum())\n"
   ]
  },
  {
   "cell_type": "code",
   "execution_count": 5,
   "id": "e385c4ed-67f7-4f56-9f3b-f05b37d19225",
   "metadata": {},
   "outputs": [
    {
     "name": "stdout",
     "output_type": "stream",
     "text": [
      "\n",
      "Cleaned Dataset Info:\n",
      "<class 'pandas.core.frame.DataFrame'>\n",
      "Index: 499 entries, 0 to 499\n",
      "Data columns (total 7 columns):\n",
      " #   Column    Non-Null Count  Dtype         \n",
      "---  ------    --------------  -----         \n",
      " 0   Product   499 non-null    object        \n",
      " 1   Region    499 non-null    object        \n",
      " 2   Sales     499 non-null    float64       \n",
      " 3   Profit    499 non-null    float64       \n",
      " 4   Discount  499 non-null    float64       \n",
      " 5   Category  499 non-null    object        \n",
      " 6   Date      499 non-null    datetime64[ns]\n",
      "dtypes: datetime64[ns](1), float64(3), object(3)\n",
      "memory usage: 31.2+ KB\n",
      "None\n",
      "\n",
      "Missing Values After Cleaning:\n",
      "Product     0\n",
      "Region      0\n",
      "Sales       0\n",
      "Profit      0\n",
      "Discount    0\n",
      "Category    0\n",
      "Date        0\n",
      "dtype: int64\n"
     ]
    }
   ],
   "source": [
    "# Filling missing values with the mean of the respective columns\n",
    "sales_data['Sales'].fillna(sales_data['Sales'].mean(), inplace=True)\n",
    "sales_data['Profit'].fillna(sales_data['Profit'].mean(), inplace=True)\n",
    "\n",
    "# Convert the 'Date' column to datetime format\n",
    "sales_data['Date'] = pd.to_datetime(sales_data['Date'])\n",
    "\n",
    "# Remove duplicates if any\n",
    "sales_data.drop_duplicates(inplace=True)\n",
    "\n",
    "# Verify the cleaning process\n",
    "print(\"\\nCleaned Dataset Info:\")\n",
    "print(sales_data.info())\n",
    "\n",
    "print(\"\\nMissing Values After Cleaning:\")\n",
    "print(sales_data.isnull().sum())\n"
   ]
  },
  {
   "cell_type": "code",
   "execution_count": null,
   "id": "09abbae9-43cb-48aa-a054-e0f0c4ca0af6",
   "metadata": {},
   "outputs": [],
   "source": [
    "import matplotlib.pyplot as plt\n",
    "import seaborn as sns\n",
    "\n",
    "# Set the style for plots\n",
    "sns.set(style='whitegrid')\n",
    "\n",
    "# Sales Trends Over Time (Time Series Plot)\n",
    "plt.figure(figsize=(10, 6))\n",
    "sns.lineplot(data=sales_data, x='Date', y='Sales', marker='o', color='blue')\n",
    "plt.title('Sales Trends Over Time')\n",
    "plt.xlabel('Date')\n",
    "plt.ylabel('Sales')\n",
    "plt.xticks(rotation=45)\n",
    "plt.show()\n"
   ]
  },
  {
   "cell_type": "code",
   "execution_count": null,
   "id": "0965d62d-c874-4c04-b1e3-58b7e0b7e95d",
   "metadata": {},
   "outputs": [],
   "source": []
  }
 ],
 "metadata": {
  "kernelspec": {
   "display_name": "Python 3 (ipykernel)",
   "language": "python",
   "name": "python3"
  },
  "language_info": {
   "codemirror_mode": {
    "name": "ipython",
    "version": 3
   },
   "file_extension": ".py",
   "mimetype": "text/x-python",
   "name": "python",
   "nbconvert_exporter": "python",
   "pygments_lexer": "ipython3",
   "version": "3.11.7"
  }
 },
 "nbformat": 4,
 "nbformat_minor": 5
}
